{
 "cells": [
  {
   "cell_type": "markdown",
   "metadata": {},
   "source": [
    "# Introduction to Deep Learning (Tensorflow graphs and sessions)\n",
    "\n",
    "Deep learning can be understood as a subset of Machine learning. It's probably the most popular term in the Machine learning world today due to the unimaginable results it produced recently. Deep learning is nothing but same old neural networks with more hidden layers and better activations, optimizations and some novel techniques.\n",
    "\n",
    "Before moving on to the nuts and bolts let's understand couple of tools and concepts that will be useful."
   ]
  },
  {
   "cell_type": "markdown",
   "metadata": {},
   "source": [
    "## Tensorflow\n",
    "\n",
    "tensorflow is a great numerical computing library which can be used to develop neural networks."
   ]
  },
  {
   "cell_type": "code",
   "execution_count": 1,
   "metadata": {},
   "outputs": [],
   "source": [
    "import tensorflow as tf"
   ]
  },
  {
   "cell_type": "code",
   "execution_count": 14,
   "metadata": {},
   "outputs": [
    {
     "name": "stdout",
     "output_type": "stream",
     "text": [
      "Tensor(\"Const:0\", shape=(), dtype=string)\n"
     ]
    }
   ],
   "source": [
    "a = tf.constant(\"hello world\")\n",
    "print(a)"
   ]
  },
  {
   "cell_type": "code",
   "execution_count": 15,
   "metadata": {},
   "outputs": [
    {
     "name": "stdout",
     "output_type": "stream",
     "text": [
      "b'hello world'\n"
     ]
    }
   ],
   "source": [
    "with tf.Session() as sess:\n",
    "    print(sess.run(a))"
   ]
  },
  {
   "cell_type": "markdown",
   "metadata": {},
   "source": [
    "### Let's talk about Graphs"
   ]
  },
  {
   "cell_type": "code",
   "execution_count": 16,
   "metadata": {},
   "outputs": [],
   "source": [
    "pi = tf.constant(3.14, name=\"pi\")\n",
    "r = tf.placeholder(tf.float32, name=\"r\")\n",
    "    \n",
    "y = pi * r * r"
   ]
  },
  {
   "cell_type": "markdown",
   "metadata": {},
   "source": [
    "in Tensorflow, it will first create a graph with tensors and operations and execution of the graph happens in a session."
   ]
  },
  {
   "cell_type": "code",
   "execution_count": 17,
   "metadata": {},
   "outputs": [],
   "source": [
    "# We write the graph out to the 'logs' directory\n",
    "tf.summary.FileWriter(\"logs\", sess.graph).close()"
   ]
  },
  {
   "cell_type": "code",
   "execution_count": 18,
   "metadata": {},
   "outputs": [
    {
     "name": "stdout",
     "output_type": "stream",
     "text": [
      "[78.5]\n"
     ]
    }
   ],
   "source": [
    "with tf.Session() as sess:\n",
    "    print(y.eval(feed_dict={r: [5]}))"
   ]
  },
  {
   "cell_type": "markdown",
   "metadata": {},
   "source": [
    "Let's create a graph for a neural network with 3 layers."
   ]
  },
  {
   "cell_type": "code",
   "execution_count": 19,
   "metadata": {},
   "outputs": [],
   "source": [
    "g = tf.Graph()\n",
    "\n",
    "with g.as_default():\n",
    "    X = tf.placeholder(tf.float32, name=\"X\")\n",
    "    \n",
    "    W1 = tf.placeholder(tf.float32, name=\"W1\")\n",
    "    b1 = tf.placeholder(tf.float32, name=\"b1\")\n",
    "    \n",
    "    a1 = tf.nn.relu(tf.matmul(X, W1) + b1)\n",
    "    \n",
    "    W2 = tf.placeholder(tf.float32, name=\"W2\")\n",
    "    b2 = tf.placeholder(tf.float32, name=\"b2\")\n",
    "    \n",
    "    a2 = tf.nn.relu(tf.matmul(a1, W2) + b2)\n",
    "\n",
    "    W3 = tf.placeholder(tf.float32, name=\"W3\")\n",
    "    b3 = tf.placeholder(tf.float32, name=\"b3\")\n",
    "    \n",
    "    y_hat = tf.matmul(a2, W3) + b3\n",
    "    \n",
    "tf.summary.FileWriter(\"logs\", g).close()"
   ]
  },
  {
   "cell_type": "code",
   "execution_count": null,
   "metadata": {},
   "outputs": [],
   "source": [
    "# Run this in terminal\n",
    "!tensorboard --logdir=logs"
   ]
  },
  {
   "attachments": {},
   "cell_type": "markdown",
   "metadata": {},
   "source": [
    "You will see an output like this:\n",
    "![Graph](attachment:https://raw.githubusercontent.com/keshan/ml-handson-session/master/images/tb_graph.png)"
   ]
  },
  {
   "cell_type": "markdown",
   "metadata": {},
   "source": []
  }
 ],
 "metadata": {
  "kernelspec": {
   "display_name": "Python 3",
   "language": "python",
   "name": "python3"
  },
  "language_info": {
   "codemirror_mode": {
    "name": "ipython",
    "version": 3
   },
   "file_extension": ".py",
   "mimetype": "text/x-python",
   "name": "python",
   "nbconvert_exporter": "python",
   "pygments_lexer": "ipython3",
   "version": "3.6.0"
  }
 },
 "nbformat": 4,
 "nbformat_minor": 2
}
